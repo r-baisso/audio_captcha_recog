{
 "cells": [
  {
   "cell_type": "code",
   "execution_count": 1,
   "metadata": {},
   "outputs": [
    {
     "ename": "AttributeError",
     "evalue": "module 'librosa' has no attribute 'display'",
     "output_type": "error",
     "traceback": [
      "\u001b[1;31m---------------------------------------------------------------------------\u001b[0m",
      "\u001b[1;31mAttributeError\u001b[0m                            Traceback (most recent call last)",
      "\u001b[1;32m<ipython-input-1-f90918d9b46f>\u001b[0m in \u001b[0;36m<module>\u001b[1;34m\u001b[0m\n\u001b[0;32m     46\u001b[0m \u001b[1;32mimport\u001b[0m \u001b[0mmatplotlib\u001b[0m\u001b[1;33m.\u001b[0m\u001b[0mpyplot\u001b[0m \u001b[1;32mas\u001b[0m \u001b[0mplt\u001b[0m\u001b[1;33m\u001b[0m\u001b[1;33m\u001b[0m\u001b[0m\n\u001b[0;32m     47\u001b[0m \u001b[0mplt\u001b[0m\u001b[1;33m.\u001b[0m\u001b[0mfigure\u001b[0m\u001b[1;33m(\u001b[0m\u001b[0mfigsize\u001b[0m\u001b[1;33m=\u001b[0m\u001b[1;33m(\u001b[0m\u001b[1;36m10\u001b[0m\u001b[1;33m,\u001b[0m \u001b[1;36m4\u001b[0m\u001b[1;33m)\u001b[0m\u001b[1;33m)\u001b[0m\u001b[1;33m\u001b[0m\u001b[1;33m\u001b[0m\u001b[0m\n\u001b[1;32m---> 48\u001b[1;33m \u001b[0mlibrosa\u001b[0m\u001b[1;33m.\u001b[0m\u001b[0mdisplay\u001b[0m\u001b[1;33m.\u001b[0m\u001b[0mspecshow\u001b[0m\u001b[1;33m(\u001b[0m\u001b[0mmfccs\u001b[0m\u001b[1;33m,\u001b[0m \u001b[0mx_axis\u001b[0m\u001b[1;33m=\u001b[0m\u001b[1;34m'time'\u001b[0m\u001b[1;33m)\u001b[0m\u001b[1;33m\u001b[0m\u001b[1;33m\u001b[0m\u001b[0m\n\u001b[0m\u001b[0;32m     49\u001b[0m \u001b[0mplt\u001b[0m\u001b[1;33m.\u001b[0m\u001b[0mcolorbar\u001b[0m\u001b[1;33m(\u001b[0m\u001b[1;33m)\u001b[0m\u001b[1;33m\u001b[0m\u001b[1;33m\u001b[0m\u001b[0m\n\u001b[0;32m     50\u001b[0m \u001b[0mplt\u001b[0m\u001b[1;33m.\u001b[0m\u001b[0mtitle\u001b[0m\u001b[1;33m(\u001b[0m\u001b[1;34m'MFCC'\u001b[0m\u001b[1;33m)\u001b[0m\u001b[1;33m\u001b[0m\u001b[1;33m\u001b[0m\u001b[0m\n",
      "\u001b[1;31mAttributeError\u001b[0m: module 'librosa' has no attribute 'display'"
     ]
    }
   ],
   "source": [
    "# Generate mfccs from a time series\n",
    "import librosa\n",
    "\n",
    "y, sr = librosa.load(librosa.util.example_audio_file(), offset=30, duration=5)\n",
    "librosa.feature.mfcc(y=y, sr=sr)\n",
    "# array([[ -5.229e+02,  -4.944e+02, ...,  -5.229e+02,  -5.229e+02],\n",
    "# [  7.105e-15,   3.787e+01, ...,  -7.105e-15,  -7.105e-15],\n",
    "# ...,\n",
    "# [  1.066e-14,  -7.500e+00, ...,   1.421e-14,   1.421e-14],\n",
    "# [  3.109e-14,  -5.058e+00, ...,   2.931e-14,   2.931e-14]])\n",
    "\n",
    "# Using a different hop length and HTK-style Mel frequencies\n",
    "\n",
    "librosa.feature.mfcc(y=y, sr=sr, hop_length=1024, htk=True)\n",
    "# array([[-1.628e+02, -8.903e+01, -1.409e+02, ..., -1.078e+02,\n",
    "# -2.504e+02, -2.393e+02],\n",
    "# [ 1.275e+02,  9.532e+01,  1.019e+02, ...,  1.152e+02,\n",
    "# 2.224e+02,  1.750e+02],\n",
    "# [ 1.139e+01,  6.155e+00,  1.266e+01, ...,  4.557e+01,\n",
    "# 4.585e+01,  3.985e+01],\n",
    "# ...,\n",
    "# [ 3.462e+00,  4.032e+00, -5.694e-01, ..., -6.677e+00,\n",
    "# -1.183e-01,  1.485e+00],\n",
    "# [ 9.569e-01,  1.069e+00, -6.865e+00, ..., -9.598e+00,\n",
    "# -1.611e+00, -6.716e+00],\n",
    "# [ 8.457e+00,  3.582e+00, -1.156e-01, ..., -3.018e+00,\n",
    "# -1.456e+01, -6.991e+00]], dtype=float32)\n",
    "\n",
    "# Use a pre-computed log-power Mel spectrogram\n",
    "\n",
    "S = librosa.feature.melspectrogram(y=y, sr=sr, n_mels=128,\n",
    "                                   fmax=8000)\n",
    "librosa.feature.mfcc(S=librosa.power_to_db(S))\n",
    "# array([[ -5.207e+02,  -4.898e+02, ...,  -5.207e+02,  -5.207e+02],\n",
    "# [ -2.576e-14,   4.054e+01, ...,  -3.997e-14,  -3.997e-14],\n",
    "# ...,\n",
    "# [  7.105e-15,  -3.534e+00, ...,   0.000e+00,   0.000e+00],\n",
    "# [  3.020e-14,  -2.613e+00, ...,   3.553e-14,   3.553e-14]])\n",
    "\n",
    "# Get more components\n",
    "\n",
    "mfccs = librosa.feature.mfcc(y=y, sr=sr, n_mfcc=40)\n",
    "\n",
    "# Visualize the MFCC series\n",
    "\n",
    "import matplotlib.pyplot as plt\n",
    "plt.figure(figsize=(10, 4))\n",
    "librosa.display.specshow(mfccs, x_axis='time')\n",
    "plt.colorbar()\n",
    "plt.title('MFCC')\n",
    "plt.tight_layout()\n",
    "plt.show()\n",
    "\n",
    "# Compare different DCT bases\n",
    "\n",
    "m_slaney = librosa.feature.mfcc(y=y, sr=sr, dct_type=2)\n",
    "m_htk = librosa.feature.mfcc(y=y, sr=sr, dct_type=3)\n",
    "plt.figure(figsize=(10, 6))\n",
    "plt.subplot(2, 1, 1)\n",
    "librosa.display.specshow(m_slaney, x_axis='time')\n",
    "plt.title('RASTAMAT / Auditory toolbox (dct_type=2)')\n",
    "plt.colorbar()\n",
    "plt.subplot(2, 1, 2)\n",
    "librosa.display.specshow(m_htk, x_axis='time')\n",
    "plt.title('HTK-style (dct_type=3)')\n",
    "plt.colorbar()\n",
    "plt.tight_layout()\n",
    "plt.show()"
   ]
  }
 ],
 "metadata": {
  "kernelspec": {
   "display_name": "Python 3",
   "language": "python",
   "name": "python3"
  },
  "language_info": {
   "codemirror_mode": {
    "name": "ipython",
    "version": 3
   },
   "file_extension": ".py",
   "mimetype": "text/x-python",
   "name": "python",
   "nbconvert_exporter": "python",
   "pygments_lexer": "ipython3",
   "version": "3.7.3"
  }
 },
 "nbformat": 4,
 "nbformat_minor": 2
}
