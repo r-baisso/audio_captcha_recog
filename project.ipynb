{
 "cells": [
  {
   "cell_type": "code",
   "execution_count": 1,
   "metadata": {},
   "outputs": [],
   "source": [
    "import librosa\n",
    "import math\n",
    "import glob\n",
    "import random\n",
    "import pandas as pd\n",
    "import numpy as np\n",
    "import matplotlib.pylab as plt\n",
    "import scipy.signal as sg\n",
    "import re\n",
    "from scipy.fftpack import dct\n",
    "from scipy.fftpack import fft\n",
    "from scipy.fftpack import ifft\n",
    "from sklearn.metrics import confusion_matrix\n",
    "from sklearn.decomposition import PCA\n",
    "from sklearn.svm import SVC\n",
    "from sklearn.neighbors import KNeighborsClassifier"
   ]
  },
  {
   "cell_type": "code",
   "execution_count": 2,
   "metadata": {},
   "outputs": [],
   "source": [
    "# calculo o do MFCC medio para cada audio de entrada\n",
    "def calc_mfcc(segmento, sr):\n",
    "    av = segmento.to_numpy(copy=True)\n",
    "    return np.mean(librosa.feature.mfcc(y=av, sr=sr, n_mfcc=24).T,axis=0)"
   ]
  },
  {
   "cell_type": "code",
   "execution_count": 3,
   "metadata": {},
   "outputs": [],
   "source": [
    "# divisao dos audios de entrada para separacao de cada letra\n",
    "def extract_intervals(signal, cut):\n",
    "    data_interval = []\n",
    "    interval = int(len(signal) // cut)\n",
    "    for i in range(0, cut) :\n",
    "        data_interval.append(pd.Series(signal[i*interval : (i+1)*interval]))\n",
    "    return data_interval"
   ]
  },
  {
   "cell_type": "code",
   "execution_count": 4,
   "metadata": {},
   "outputs": [],
   "source": [
    "# calculo do sinal filtrado po filtro passa-baixas de ButterWorth\n",
    "def lowPassFilter(signal):\n",
    "    N  = 5   # Filter order\n",
    "    Wn = 0.5 # Cutoff frequency\n",
    "    B, A = sg.butter(N, Wn, output='ba')\n",
    "    smooth_data = sg.filtfilt(B,A, signal)\n",
    "    return smooth_data"
   ]
  },
  {
   "cell_type": "code",
   "execution_count": 5,
   "metadata": {},
   "outputs": [],
   "source": [
    "# calculo da serie discreta de cosenos do sinal\n",
    "def calc_dct(segmento):\n",
    "    av = segmento.to_numpy(copy=True)\n",
    "    return dct(av, type=3, n=24)"
   ]
  },
  {
   "cell_type": "code",
   "execution_count": 6,
   "metadata": {},
   "outputs": [],
   "source": [
    "# calcula o Mel Spectrogram do sinal\n",
    "def calc_mel(segmento, sr):\n",
    "    av = segmento.to_numpy(copy=True)\n",
    "    return np.mean(librosa.feature.melspectrogram(av, sr=sr).T,axis=0)"
   ]
  },
  {
   "cell_type": "code",
   "execution_count": 7,
   "metadata": {},
   "outputs": [],
   "source": [
    "# calcula a FFT do sinal\n",
    "def calc_fft(segmento):\n",
    "    av = segmento.to_numpy(copy=True)\n",
    "    return abs(fft(av, n=24))"
   ]
  },
  {
   "cell_type": "code",
   "execution_count": 8,
   "metadata": {},
   "outputs": [],
   "source": [
    "# faz a aquisicao do caminho de todos os arquivos na pasta path\n",
    "def get_files(path):\n",
    "    files = glob.glob(path + \"*.wav\")\n",
    "    return files\n",
    "\n",
    "#quebra o nome do arquivo em letras para categorizacao dos audios\n",
    "def get_labels(path_file):\n",
    "    path_file = re.sub(\"[ (1)]\", \"\", path_file)\n",
    "    return list(path_file[-8:-4])"
   ]
  },
  {
   "cell_type": "code",
   "execution_count": 9,
   "metadata": {},
   "outputs": [],
   "source": [
    "# realiza a extracao de features do sinal\n",
    "def feature_extraction(segmento, sr):\n",
    "\n",
    "    features = []\n",
    "    np.array(features)\n",
    "    \n",
    "    features=np.append(features, calc_mfcc(segmento, sr))\n",
    "    features=np.append(features, calc_mel(segmento, sr))\n",
    "    features=np.append(features, calc_dct(segmento))\n",
    "    features=np.append(features, calc_fft(segmento))\n",
    "\n",
    "    return features"
   ]
  },
  {
   "cell_type": "code",
   "execution_count": 10,
   "metadata": {},
   "outputs": [],
   "source": [
    "def get_x_y(path, seed=4):\n",
    "    files = get_files(path)\n",
    "\n",
    "    Xt = []\n",
    "    yt = []\n",
    "    segmentos = []\n",
    "    # random.seed(seed)\n",
    "    # random.shuffle(files)\n",
    "    for f in files:\n",
    "        data, sr = librosa.load(f, mono=True)\n",
    "        segmentos += extract_intervals(data, 4)\n",
    "        yt += get_labels(f)    \n",
    "\n",
    "    for segmento in segmentos:\n",
    "        Xt.append(feature_extraction(segmento, sr))\n",
    "    \n",
    "    return Xt,yt"
   ]
  },
  {
   "cell_type": "code",
   "execution_count": 11,
   "metadata": {},
   "outputs": [],
   "source": [
    "def unique_values(l):\n",
    "    unique_list = []\n",
    "    for x in l: \n",
    "        if x not in unique_list: \n",
    "            unique_list.append(x)\n",
    "    return unique_list"
   ]
  },
  {
   "cell_type": "code",
   "execution_count": 12,
   "metadata": {},
   "outputs": [],
   "source": [
    "def print_conf_mtx(yt , y_pred, labels):\n",
    "    cm = confusion_matrix(yt, y_pred, labels)\n",
    "    \n",
    "    print(cm)\n",
    "    \n",
    "    fig = plt.figure(figsize=(8,8))\n",
    "    ax = fig.add_subplot(111)\n",
    "    cax = ax.matshow(cm)\n",
    "    plt.title('Confusion matrix of the classifier')\n",
    "    fig.colorbar(cax)\n",
    "    ax.set_xticklabels([''] + labels)\n",
    "    ax.set_yticklabels([''] + labels)\n",
    "    plt.locator_params(nbins=len(labels))\n",
    "    plt.xlabel('Predicted')\n",
    "    plt.ylabel('True')\n",
    "    plt.show()"
   ]
  },
  {
   "cell_type": "code",
   "execution_count": 13,
   "metadata": {},
   "outputs": [],
   "source": [
    "#amostras = data.shape[0]\n",
    "#print(f\"frequencia de amostragem = {sr}\")\n",
    "#print(f\"quantidade de amostras = {amostras}\")"
   ]
  },
  {
   "cell_type": "code",
   "execution_count": 14,
   "metadata": {},
   "outputs": [],
   "source": [
    "path = 'TREINAMENTO/'\n",
    "test_path = 'VALIDACAO/'"
   ]
  },
  {
   "cell_type": "code",
   "execution_count": 15,
   "metadata": {},
   "outputs": [],
   "source": [
    "X, y = get_x_y(path)\n",
    "Xt, yt = get_x_y(test_path)"
   ]
  },
  {
   "cell_type": "code",
   "execution_count": 16,
   "metadata": {},
   "outputs": [],
   "source": [
    "svm = SVC(kernel='linear', class_weight='balanced',probability=True, gamma='auto')"
   ]
  },
  {
   "cell_type": "code",
   "execution_count": 17,
   "metadata": {},
   "outputs": [
    {
     "data": {
      "text/plain": [
       "SVC(C=1.0, cache_size=200, class_weight='balanced', coef0=0.0,\n",
       "    decision_function_shape='ovr', degree=3, gamma='auto', kernel='linear',\n",
       "    max_iter=-1, probability=True, random_state=None, shrinking=True, tol=0.001,\n",
       "    verbose=False)"
      ]
     },
     "execution_count": 17,
     "metadata": {},
     "output_type": "execute_result"
    }
   ],
   "source": [
    "svm.fit(X, y)"
   ]
  },
  {
   "cell_type": "code",
   "execution_count": 18,
   "metadata": {},
   "outputs": [],
   "source": [
    "y_pred = svm.predict(Xt)"
   ]
  },
  {
   "cell_type": "code",
   "execution_count": 19,
   "metadata": {},
   "outputs": [
    {
     "data": {
      "text/plain": [
       "0.5880149812734082"
      ]
     },
     "execution_count": 19,
     "metadata": {},
     "output_type": "execute_result"
    }
   ],
   "source": [
    "svm.score(Xt, yt)"
   ]
  },
  {
   "cell_type": "code",
   "execution_count": 20,
   "metadata": {},
   "outputs": [
    {
     "name": "stdout",
     "output_type": "stream",
     "text": [
      "[[64  0  0  0 12  7  0 14  2  1]\n",
      " [ 1 80 12  0  0  4  0  0  0  0]\n",
      " [ 0 14 93  0  0  6  6  0  3  0]\n",
      " [ 4  4  1 42  6  2  2  3 44  2]\n",
      " [18  1  1  2 62 13  0  2  8  0]\n",
      " [17  2  6  1  3 79  2  1  2  1]\n",
      " [ 2  0  2 18  3  0 36  0 10 33]\n",
      " [14  0  0  0  8  2  0 67  3  1]\n",
      " [ 3  0  2 31  7  2  6  2 51  2]\n",
      " [ 2  1  0  6  1  1 40  0  8 54]]\n"
     ]
    },
    {
     "data": {
      "image/png": "[encoded data removed]",
      "text/plain": [
       "<Figure size 576x576 with 2 Axes>"
      ]
     },
     "metadata": {
      "needs_background": "light"
     },
     "output_type": "display_data"
    }
   ],
   "source": [
    "labels = unique_values(y)\n",
    "print_conf_mtx(yt, y_pred, labels)"
   ]
  },
  {
   "cell_type": "code",
   "execution_count": 21,
   "metadata": {},
   "outputs": [],
   "source": [
    "knc = KNeighborsClassifier(n_neighbors = 3, n_jobs = 3, p = 1)"
   ]
  },
  {
   "cell_type": "code",
   "execution_count": 22,
   "metadata": {},
   "outputs": [
    {
     "data": {
      "text/plain": [
       "KNeighborsClassifier(algorithm='auto', leaf_size=30, metric='minkowski',\n",
       "                     metric_params=None, n_jobs=3, n_neighbors=3, p=1,\n",
       "                     weights='uniform')"
      ]
     },
     "execution_count": 22,
     "metadata": {},
     "output_type": "execute_result"
    }
   ],
   "source": [
    "knc.fit(X,y)"
   ]
  },
  {
   "cell_type": "code",
   "execution_count": 23,
   "metadata": {},
   "outputs": [],
   "source": [
    "y_knc = knc.predict(Xt)"
   ]
  },
  {
   "cell_type": "code",
   "execution_count": 24,
   "metadata": {},
   "outputs": [
    {
     "data": {
      "text/plain": [
       "0.5730337078651685"
      ]
     },
     "execution_count": 24,
     "metadata": {},
     "output_type": "execute_result"
    }
   ],
   "source": [
    "knc.score(Xt, yt)"
   ]
  },
  {
   "cell_type": "code",
   "execution_count": 25,
   "metadata": {},
   "outputs": [
    {
     "name": "stdout",
     "output_type": "stream",
     "text": [
      "[[70  0  0  0 14  8  0  8  0  0]\n",
      " [ 1 77 16  1  0  0  1  0  1  0]\n",
      " [ 0 16 99  1  0  3  1  0  1  1]\n",
      " [ 3  3  0 36  5  3  5  0 52  3]\n",
      " [25  0  0  0 58 10  1  3 10  0]\n",
      " [21  1  1  0  6 83  0  2  0  0]\n",
      " [ 2  0  1 15  4  1 29  1 22 29]\n",
      " [24  0  0  0  4  5  0 61  1  0]\n",
      " [ 3  2  0 27  8  0  5  1 59  1]\n",
      " [ 2  1  0  3  3  2 39  0 23 40]]\n"
     ]
    },
    {
     "data": {
      "image/png": "[encoded data removed]",
      "text/plain": [
       "<Figure size 576x576 with 2 Axes>"
      ]
     },
     "metadata": {
      "needs_background": "light"
     },
     "output_type": "display_data"
    }
   ],
   "source": [
    "print_conf_mtx(yt, y_knc, labels)"
   ]
  },
  {
   "cell_type": "code",
   "execution_count": null,
   "metadata": {},
   "outputs": [],
   "source": []
  }
 ],
 "metadata": {
  "kernelspec": {
   "display_name": "Python 3",
   "language": "python",
   "name": "python3"
  },
  "language_info": {
   "codemirror_mode": {
    "name": "ipython",
    "version": 3
   },
   "file_extension": ".py",
   "mimetype": "text/x-python",
   "name": "python",
   "nbconvert_exporter": "python",
   "pygments_lexer": "ipython3",
   "version": "3.7.4"
  }
 },
 "nbformat": 4,
 "nbformat_minor": 2
}
