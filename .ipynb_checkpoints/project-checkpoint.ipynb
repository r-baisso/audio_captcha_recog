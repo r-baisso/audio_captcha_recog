{
 "cells": [
  {
   "cell_type": "code",
   "execution_count": 1,
   "metadata": {},
   "outputs": [],
   "source": [
    "print(\"-- Bem vindo ao Projeto de Reconhecimento de Audio --\")\n",
    "print(\"\\nRealizando Imports de Libs necessarias...\")\n",
    "import librosa\n",
    "import librosa.display\n",
    "import math\n",
    "import glob\n",
    "import random\n",
    "import pandas as pd\n",
    "import numpy as np\n",
    "import matplotlib.pylab as plt\n",
    "import scipy.signal as sg\n",
    "import re\n",
    "from scipy.fftpack import dct\n",
    "from scipy.fftpack import fft\n",
    "from scipy.fftpack import ifft\n",
    "from sklearn.metrics import confusion_matrix\n",
    "from sklearn.decomposition import PCA\n",
    "from sklearn.svm import SVC\n",
    "from sklearn.neighbors import KNeighborsClassifier\n",
    "print(\"Definindo Funcoes necessarias...\")"
   ]
  },
  {
   "cell_type": "code",
   "execution_count": 2,
   "metadata": {},
   "outputs": [],
   "source": [
    "#calculo o do MFCC medio para cada audio de entrada\n",
    "def calc_mfcc(segmento, sr):\n",
    "    av = segmento.to_numpy(copy=True)\n",
    "    return np.mean(librosa.feature.mfcc(y=av, sr=sr, n_mfcc=24).T,axis=0)"
   ]
  },
  {
   "cell_type": "code",
   "execution_count": 3,
   "metadata": {},
   "outputs": [],
   "source": [
    "#divisao dos audios de entrada para separacao de cada letra\n",
    "def extract_intervals(signal, cut):\n",
    "    data_interval = []\n",
    "    interval = int(len(signal) // cut)\n",
    "    for i in range(0, cut) :\n",
    "        data_interval.append(pd.Series(signal[i*interval : (i+1)*interval]))\n",
    "    return data_interval"
   ]
  },
  {
   "cell_type": "code",
   "execution_count": 4,
   "metadata": {},
   "outputs": [],
   "source": [
    "#calculo do sinal filtrado po filtro passa-baixas de ButterWorth\n",
    "def lowPassFilter(signal):\n",
    "    N  = 5   # Filter order\n",
    "    Wn = 0.5 # Cutoff frequency\n",
    "    B, A = sg.butter(N, Wn, output='ba')\n",
    "    smooth_data = sg.filtfilt(B,A, signal)\n",
    "    return smooth_data"
   ]
  },
  {
   "cell_type": "code",
   "execution_count": 5,
   "metadata": {},
   "outputs": [],
   "source": [
    "#calculo da serie discreta de cosenos do sinal\n",
    "def calc_dct(segmento):\n",
    "    av = segmento.to_numpy(copy=True)\n",
    "    return dct(av, type=3, n=24)"
   ]
  },
  {
   "cell_type": "code",
   "execution_count": 6,
   "metadata": {},
   "outputs": [],
   "source": [
    "#calcula o Mel Spectrogram do sinal\n",
    "def calc_mel(segmento, sr):\n",
    "    av = segmento.to_numpy(copy=True)\n",
    "    return np.mean(librosa.feature.melspectrogram(av, sr=sr).T,axis=0)"
   ]
  },
  {
   "cell_type": "code",
   "execution_count": 7,
   "metadata": {},
   "outputs": [],
   "source": [
    "def calc_chroma(segmento, sr):\n",
    "    av = segmento.to_numpy(copy=True)\n",
    "    return np.mean(librosa.feature.chroma_cens(y=av, sr=sr, n_chroma=24).T,axis=0)"
   ]
  },
  {
   "cell_type": "code",
   "execution_count": 8,
   "metadata": {},
   "outputs": [],
   "source": [
    "#calcula a FFT do sinal\n",
    "def calc_fft(segmento):\n",
    "    av = segmento.to_numpy(copy=True)\n",
    "    return abs(fft(av, n=24))"
   ]
  },
  {
   "cell_type": "code",
   "execution_count": 9,
   "metadata": {},
   "outputs": [],
   "source": [
    "#faz a aquisicao do caminho de todos os arquivos na pasta path\n",
    "def get_files(path):\n",
    "    files = glob.glob(path + \"*.wav\")\n",
    "    return files\n",
    "#quebra o nome do arquivo em letras para categorizacao dos audios\n",
    "def get_labels(path_file):\n",
    "    path_file = re.sub(\"[ (1)]\", \"\", path_file)\n",
    "    return list(path_file[-8:-4])"
   ]
  },
  {
   "cell_type": "code",
   "execution_count": 10,
   "metadata": {},
   "outputs": [],
   "source": [
    "#realiza a extracao de features do sinal\n",
    "def feature_extraction(segmento, sr):\n",
    "\n",
    "    features = []\n",
    "    np.array(features)\n",
    "    \n",
    "    features=np.append(features, calc_mfcc(segmento, sr))\n",
    "    features=np.append(features, calc_mel(segmento, sr))\n",
    "    #features=np.append(features, calc_chroma(segmento, sr))\n",
    "    #features=np.append(features, calc_dct(segmento))\n",
    "    #features=np.append(features, calc_fft(segmento))\n",
    "\n",
    "    return features"
   ]
  },
  {
   "cell_type": "code",
   "execution_count": 11,
   "metadata": {},
   "outputs": [],
   "source": [
    "def get_x_y(path, seed=4):\n",
    "    files = get_files(path)\n",
    "\n",
    "    Xt = []\n",
    "    yt = []\n",
    "    segmentos = []\n",
    "    random.seed(seed)\n",
    "    random.shuffle(files)\n",
    "    for f in files:\n",
    "        data, sr = librosa.load(f, mono=True)\n",
    "        segmentos += extract_intervals(data, 4)\n",
    "        yt+=get_labels(f)    \n",
    "\n",
    "    for segmento in segmentos:\n",
    "        Xt.append(feature_extraction(segmento, sr))\n",
    "    \n",
    "    return Xt,yt"
   ]
  },
  {
   "cell_type": "code",
   "execution_count": 12,
   "metadata": {},
   "outputs": [],
   "source": [
    "def unique_values(l):\n",
    "    unique_list = []\n",
    "    for x in l: \n",
    "        if x not in unique_list: \n",
    "            unique_list.append(x)\n",
    "    return unique_list"
   ]
  },
  {
   "cell_type": "code",
   "execution_count": 13,
   "metadata": {},
   "outputs": [],
   "source": [
    "def print_conf_mtx(yt, y_pred, labels):\n",
    "    cm = confusion_matrix(yt, y_pred, labels)\n",
    "    print(\"Matriz de Confusao do Modelo\\n\")\n",
    "    print(cm)\n",
    "    #%matplotlib\n",
    "    #fig = plt.figure(figsize=(8,8))\n",
    "    #ax = fig.add_subplot(111)\n",
    "    #cax = ax.matshow(cm)\n",
    "    #plt.title('Confusion matrix of the classifier')\n",
    "    #fig.colorbar(cax)\n",
    "    #ax.set_xticklabels([''] + labels)\n",
    "    #ax.set_yticklabels([''] + labels)\n",
    "    #plt.locator_params(nbins=len(labels))\n",
    "    #plt.xlabel('Predicted')\n",
    "    #plt.ylabel('True')\n",
    "    #plt.show()"
   ]
  },
  {
   "cell_type": "code",
   "execution_count": 14,
   "metadata": {},
   "outputs": [],
   "source": [
    "#amostras = data.shape[0]\n",
    "#print(f\"frequencia de amostragem = {sr}\")\n",
    "#print(f\"quantidade de amostras = {amostras}\")"
   ]
  },
  {
   "cell_type": "code",
   "execution_count": 15,
   "metadata": {},
   "outputs": [],
   "source": [
    "path = 'TREINAMENTO/'\n",
    "test_path = 'VALIDACAO/'\n",
    "print(f\"Buscando Dados nas Pastas {path} e {test_path} internas do projeto...\")"
   ]
  },
  {
   "cell_type": "code",
   "execution_count": 18,
   "metadata": {},
   "outputs": [],
   "source": [
    "print(\"Extraindo DataSet para Treino\")\n",
    "X, y = get_x_y(path)\n",
    "print(\"Extraindo DataSet para Teste\")\n",
    "Xt, yt = get_x_y(test_path)"
   ]
  },
  {
   "cell_type": "code",
   "execution_count": 30,
   "metadata": {},
   "outputs": [],
   "source": [
    "print(\"Instanciando Modelo SVC\")\n",
    "svm = SVC(kernel='linear',probability=True, gamma='auto')"
   ]
  },
  {
   "cell_type": "code",
   "execution_count": 31,
   "metadata": {},
   "outputs": [
    {
     "data": {
      "text/plain": [
       "SVC(C=1.0, cache_size=200, class_weight=None, coef0=0.0,\n",
       "    decision_function_shape='ovr', degree=3, gamma='auto', kernel='linear',\n",
       "    max_iter=-1, probability=True, random_state=None, shrinking=True, tol=0.001,\n",
       "    verbose=False)"
      ]
     },
     "execution_count": 31,
     "metadata": {},
     "output_type": "execute_result"
    }
   ],
   "source": [
    "print(\"Treinando Modelo...\")\n",
    "svm.fit(X,y)"
   ]
  },
  {
   "cell_type": "code",
   "execution_count": 32,
   "metadata": {},
   "outputs": [],
   "source": [
    "print(\"Realizando Classificacao...\")\n",
    "y_pred = svm.predict(Xt)"
   ]
  },
  {
   "cell_type": "code",
   "execution_count": 33,
   "metadata": {},
   "outputs": [
    {
     "data": {
      "text/plain": [
       "0.6104868913857678"
      ]
     },
     "execution_count": 33,
     "metadata": {},
     "output_type": "execute_result"
    }
   ],
   "source": [
    "svm_score=svm.score(Xt, yt)\n",
    "print(f\"acuracia={svm_score:{4}.{4}}\")"
   ]
  },
  {
   "cell_type": "code",
   "execution_count": 23,
   "metadata": {},
   "outputs": [
    {
     "name": "stdout",
     "output_type": "stream",
     "text": [
      "[[53 55  2  1  0  0  0  5  5  1]\n",
      " [ 0 87  1  2  0  2  6  0  2  0]\n",
      " [ 0 32 50  0  0  0  0  0  7 17]\n",
      " [ 0 56  3 48  0  2  3  1  1  0]\n",
      " [ 0 20 16  0 27  1  0  0 46  3]\n",
      " [ 0 39  7  7  0 49  2  0  2  1]\n",
      " [ 0 47  1  5  0  4 37  0  1  0]\n",
      " [ 3 46  0  0  0  1  0 41  5  1]\n",
      " [ 0 30 11  0 18  3  0  0 37  5]\n",
      " [ 0 26 48  0  1  4  0  1 14 16]]\n"
     ]
    },
    {
     "data": {
      "image/png": "[encoded data removed]",
      "text/plain": [
       "<Figure size 576x576 with 2 Axes>"
      ]
     },
     "metadata": {
      "needs_background": "light"
     },
     "output_type": "display_data"
    }
   ],
   "source": [
    "labels = unique_values(y)\n",
    "print_conf_mtx(yt, y_pred, labels)"
   ]
  },
  {
   "cell_type": "code",
   "execution_count": 24,
   "metadata": {},
   "outputs": [],
   "source": [
    "print(\"\\nInstanciando Modelo KNN\")\n",
    "knc = KNeighborsClassifier(n_neighbors = 3, n_jobs = 3, p = 1,  weights='uniform')"
   ]
  },
  {
   "cell_type": "code",
   "execution_count": 25,
   "metadata": {},
   "outputs": [
    {
     "data": {
      "text/plain": [
       "KNeighborsClassifier(algorithm='auto', leaf_size=30, metric='minkowski',\n",
       "                     metric_params=None, n_jobs=3, n_neighbors=3, p=1,\n",
       "                     weights='uniform')"
      ]
     },
     "execution_count": 25,
     "metadata": {},
     "output_type": "execute_result"
    }
   ],
   "source": [
    "print(\"Treinando Modelo...\")\n",
    "knc.fit(X,y)"
   ]
  },
  {
   "cell_type": "code",
   "execution_count": 26,
   "metadata": {},
   "outputs": [],
   "source": [
    "print(\"Realizando Classificacao...\")\n",
    "y_knc = knc.predict(Xt)"
   ]
  },
  {
   "cell_type": "code",
   "execution_count": 27,
   "metadata": {},
   "outputs": [
    {
     "data": {
      "text/plain": [
       "0.5739700374531835"
      ]
     },
     "execution_count": 27,
     "metadata": {},
     "output_type": "execute_result"
    }
   ],
   "source": [
    "knn_score = knc.score(Xt, yt)\n",
    "print(f\"acuracia={knn_score:{4}.{4}}\")"
   ]
  },
  {
   "cell_type": "code",
   "execution_count": 28,
   "metadata": {},
   "outputs": [
    {
     "name": "stdout",
     "output_type": "stream",
     "text": [
      "[[99  0  1  3  1  0  0 16  1  1]\n",
      " [ 0 70  0  8  0 14  8  0  0  0]\n",
      " [ 0  3 60  0  1  8  0  2  5 27]\n",
      " [ 1 21  0 83  0  6  2  1  0  0]\n",
      " [ 0  2 23  2 40  3  0  1 39  3]\n",
      " [ 0 25 10 10  0 57  3  0  1  1]\n",
      " [ 0 24  1  5  0  4 61  0  0  0]\n",
      " [16  1  0  0  0  0  0 78  1  1]\n",
      " [ 1  2 22  1 29  4  1  0 29 15]\n",
      " [ 0  3 53  3  3  4  0  3  5 36]]\n"
     ]
    },
    {
     "data": {
      "image/png": "[encoded data removed]",
      "text/plain": [
       "<Figure size 576x576 with 2 Axes>"
      ]
     },
     "metadata": {
      "needs_background": "light"
     },
     "output_type": "display_data"
    }
   ],
   "source": [
    "print_conf_mtx(yt, y_knc, labels)"
   ]
  }
 ],
 "metadata": {
  "kernelspec": {
   "display_name": "Python 3",
   "language": "python",
   "name": "python3"
  },
  "language_info": {
   "codemirror_mode": {
    "name": "ipython",
    "version": 3
   },
   "file_extension": ".py",
   "mimetype": "text/x-python",
   "name": "python",
   "nbconvert_exporter": "python",
   "pygments_lexer": "ipython3",
   "version": "3.7.3"
  }
 },
 "nbformat": 4,
 "nbformat_minor": 2
}
