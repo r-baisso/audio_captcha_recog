{
 "cells": [
  {
   "cell_type": "code",
   "execution_count": 1,
   "metadata": {},
   "outputs": [
    {
     "name": "stdout",
     "output_type": "stream",
     "text": [
      "\n",
      "--- Bem vindo ao Projeto de Reconhecimento de Audio ---\n",
      "\n",
      "Realizando Imports de Libs necessarias...\n"
     ]
    }
   ],
   "source": [
    "print(\"\\n--- Bem vindo ao Projeto de Reconhecimento de Audio ---\")\n",
    "print(\"\\nRealizando Imports de Libs necessarias...\")\n",
    "\n",
    "import librosa\n",
    "import glob\n",
    "import random\n",
    "import re\n",
    "import pandas as pd\n",
    "import numpy as np\n",
    "import matplotlib.pylab as plt\n",
    "# import scipy.signal as sg\n",
    "# from scipy.fftpack import dct\n",
    "# from scipy.fftpack import fft\n",
    "# from scipy.fftpack import ifft\n",
    "from sklearn.ensemble import RandomForestClassifier\n",
    "from sklearn.svm import SVC\n",
    "from sklearn.metrics import confusion_matrix\n",
    "from sklearn.metrics import multilabel_confusion_matrix"
   ]
  },
  {
   "cell_type": "code",
   "execution_count": 2,
   "metadata": {},
   "outputs": [],
   "source": [
    "# calculo do Chroma Energy Normalized Statistics (CENS) do sinal\n",
    "def calc_chroma(segmento, sr):\n",
    "    av = segmento.to_numpy(copy=True)\n",
    "    return np.mean(librosa.feature.chroma_cqt(y=av, sr=sr, n_chroma=24).T, axis=0)\n",
    "\n",
    "# calculo do Mel Spectrogram do sinal\n",
    "def calc_mel(segmento, sr):\n",
    "    av = segmento.to_numpy(copy=True)\n",
    "    return np.mean(librosa.feature.melspectrogram(av, sr=sr).T, axis=0)\n",
    "\n",
    "# calculo do MFCC medio para cada audio de entrada\n",
    "def calc_mfcc(segmento, sr):\n",
    "    av = segmento.to_numpy(copy=True)\n",
    "    return np.mean(librosa.feature.mfcc(y=av, sr=sr, n_mfcc=24).T, axis=0)"
   ]
  },
  {
   "cell_type": "code",
   "execution_count": 3,
   "metadata": {},
   "outputs": [],
   "source": [
    "# realiza a extracao de features do sinal\n",
    "def feature_extraction(segmento, sr):\n",
    "    features = []\n",
    "    np.array(features)\n",
    "\n",
    "    features = np.append(features, calc_mfcc(segmento, sr))\n",
    "    features = np.append(features, calc_mel(segmento, sr))\n",
    "    features = np.append(features, calc_chroma(segmento, sr))\n",
    "    \"\"\"\n",
    "    features = np.append(features, calc_dct(segmento))\n",
    "    features = np.append(features, calc_fft(segmento))\n",
    "    \"\"\"\n",
    "    return features\n",
    "\n",
    "# divisao dos audios de entrada para separacao de cada letra\n",
    "def extract_intervals(signal, cut):\n",
    "    data_interval = []\n",
    "    interval = int(len(signal) // cut)\n",
    "    for i in range(0, cut) :\n",
    "        data_interval.append(pd.Series(signal[i*interval : (i+1)*interval]))\n",
    "    return data_interval"
   ]
  },
  {
   "cell_type": "code",
   "execution_count": 4,
   "metadata": {},
   "outputs": [],
   "source": [
    "# quebra o nome do arquivo em letras para categorizacao dos audios\n",
    "def get_labels(path_file):\n",
    "    path_file = re.sub(\"[ (1)]\", \"\", path_file)\n",
    "    return list(path_file[-8:-4])\n",
    "\n",
    "# faz a aquisicao do caminho de todos os arquivos na pasta path\n",
    "def get_files(path):\n",
    "    files = glob.glob(path + \"*.wav\")\n",
    "    return files\n",
    "\n",
    "def get_x_y(path, reduce=False):\n",
    "    files = get_files(path)\n",
    "    Xt = []\n",
    "    yt = []\n",
    "    segmentos = []\n",
    "    seed = random.randint(1, 1000)\n",
    "    random.seed(seed)\n",
    "    random.shuffle(files)\n",
    "    # print(f\"Semente gerada: {seed}\\n\")\n",
    "    i = 0\n",
    "    for f in files:\n",
    "        data, sr = librosa.load(f, mono=True)\n",
    "        segmentos += extract_intervals(data, 4)\n",
    "        yt += get_labels(f)\n",
    "        # print(i)\n",
    "        if i > 30 and reduce:\n",
    "            break    \n",
    "        i += 1\n",
    "        \n",
    "\n",
    "    for segmento in segmentos:\n",
    "        Xt.append(feature_extraction(segmento, sr))\n",
    "    \n",
    "    return Xt,yt"
   ]
  },
  {
   "cell_type": "code",
   "execution_count": 15,
   "metadata": {},
   "outputs": [],
   "source": [
    "# lista os elementos (caracteres) unicos de um array\n",
    "def unique_values(l):\n",
    "    unique_list = []\n",
    "    for x in l: \n",
    "        if x not in unique_list: \n",
    "            unique_list.append(x)\n",
    "    return unique_list\n",
    "\n",
    "\n",
    "# gera e imprime a matriz de confusao geral do modelo\n",
    "def print_conf_mtx(yt, y_pred, labels, classifier):\n",
    "    print(labels)\n",
    "    print()\n",
    "    cm = confusion_matrix(yt, y_pred, labels)\n",
    "    print(cm)\n",
    "    \"\"\"\n",
    "    print(\"\\nMatrizes de Confusao Individuais\")\n",
    "    print(multilabel_confusion_matrix(yt, y_pred))\n",
    "    \"\"\"\n",
    "    \n",
    "    print(\"\\nPlotando Confusion Matrix geral usando o matplotlib...\")\n",
    "    print(\"Feche o arquivo de saída para continuar a execução\")\n",
    "\n",
    "    fig = plt.figure(figsize=(10,10))\n",
    "    ax = fig.add_subplot(111)\n",
    "    cax = ax.matshow(cm)\n",
    "    plt.title('Confusion matrix of the ' + classifier + ' classifier')\n",
    "    fig.colorbar(cax)\n",
    "    ax.set_xticklabels([''] + labels)\n",
    "    ax.set_yticklabels([''] + labels)\n",
    "    plt.locator_params(nbins=len(labels))\n",
    "    plt.xlabel('Predicted')\n",
    "    plt.ylabel('True')\n",
    "    plt.savefig('confusion_matrix_'+ classifier +'.png')\n",
    "    plt.show()"
   ]
  },
  {
   "cell_type": "code",
   "execution_count": 6,
   "metadata": {},
   "outputs": [],
   "source": [
    "train_path = 'TREINAMENTO/'\n",
    "validation_path= 'VALIDACAO/'\n",
    "test_path = 'TESTE'"
   ]
  },
  {
   "cell_type": "code",
   "execution_count": 7,
   "metadata": {},
   "outputs": [
    {
     "name": "stdout",
     "output_type": "stream",
     "text": [
      "\n",
      "Buscando dados nas Pastas TREINAMENTO/ e VALIDACAO/ internas do projeto...\n",
      "\n",
      "Preparando DataSet para Treino\n",
      "Preparando DataSet para Teste/Validacao\n"
     ]
    }
   ],
   "source": [
    "print(f\"\\nBuscando dados nas Pastas {train_path} e {validation_path} internas do projeto...\")\n",
    "\n",
    "print(\"\\nPreparando DataSet para Treino\")\n",
    "X, y = get_x_y(train_path)\n",
    "# X, y = get_x_y(train_path, True)\n",
    "print(\"Preparando DataSet para Teste/Validacao\")\n",
    "Xt, yt = get_x_y(validation_path)\n",
    "# Xt, yt = get_x_y(validation_path, True)"
   ]
  },
  {
   "cell_type": "code",
   "execution_count": 20,
   "metadata": {},
   "outputs": [],
   "source": [
    "from sklearn.model_selection import RandomizedSearchCV\n",
    "# Number of trees in random forest\n",
    "n_estimators = [int(x) for x in np.linspace(start = 200, stop = 2000, num = 10)]\n",
    "# Number of features to consider at every split\n",
    "max_features = ['auto', 'sqrt']\n",
    "# Maximum number of levels in tree\n",
    "max_depth = [int(x) for x in np.linspace(10, 110, num = 11)]\n",
    "max_depth.append(None)\n",
    "# Minimum number of samples required to split a node\n",
    "min_samples_split = [2, 5, 10]\n",
    "# Minimum number of samples required at each leaf node\n",
    "min_samples_leaf = [1, 2, 4]\n",
    "# Method of selecting samples for training each tree\n",
    "bootstrap = [True, False]\n",
    "\n",
    "random_grid = {'n_estimators': n_estimators,\n",
    "               'max_features': max_features,\n",
    "               'max_depth': max_depth,\n",
    "               'min_samples_split': min_samples_split,\n",
    "               'min_samples_leaf': min_samples_leaf,\n",
    "               'bootstrap': bootstrap}"
   ]
  },
  {
   "cell_type": "code",
   "execution_count": 22,
   "metadata": {},
   "outputs": [
    {
     "name": "stdout",
     "output_type": "stream",
     "text": [
      "Fitting 3 folds for each of 100 candidates, totalling 300 fits\n"
     ]
    },
    {
     "name": "stderr",
     "output_type": "stream",
     "text": [
      "[Parallel(n_jobs=-1)]: Using backend LokyBackend with 8 concurrent workers.\n",
      "[Parallel(n_jobs=-1)]: Done  25 tasks      | elapsed:  2.1min\n",
      "[Parallel(n_jobs=-1)]: Done 146 tasks      | elapsed:  6.5min\n",
      "[Parallel(n_jobs=-1)]: Done 300 out of 300 | elapsed: 12.2min finished\n"
     ]
    },
    {
     "name": "stdout",
     "output_type": "stream",
     "text": [
      "{'n_estimators': 1800, 'min_samples_split': 2, 'min_samples_leaf': 1, 'max_features': 'auto', 'max_depth': 20, 'bootstrap': False}\n"
     ]
    }
   ],
   "source": [
    "rf = RandomForestClassifier()\n",
    "\n",
    "rf_random = RandomizedSearchCV(estimator = rf, n_jobs=3, param_distributions = random_grid, n_iter = 100, cv = 3, verbose=2, random_state=42, n_jobs = -1)\n",
    "# Fit the random search model\n",
    "rf_random.fit(X, y)\n",
    "\n",
    "print(rf_random.best_params_)"
   ]
  },
  {
   "cell_type": "code",
   "execution_count": 24,
   "metadata": {},
   "outputs": [
    {
     "name": "stdout",
     "output_type": "stream",
     "text": [
      "0.7050561797752809\n"
     ]
    }
   ],
   "source": [
    "print(rf_random.best_score_)\n",
    "best_rf = rf_random.best_estimator_"
   ]
  },
  {
   "cell_type": "code",
   "execution_count": 31,
   "metadata": {},
   "outputs": [],
   "source": [
    "rf_cv = pd.DataFrame(rf_random.cv_results_)"
   ]
  },
  {
   "cell_type": "code",
   "execution_count": 33,
   "metadata": {},
   "outputs": [
    {
     "data": {
      "text/html": [
       "<div>\n",
       "<style scoped>\n",
       "    .dataframe tbody tr th:only-of-type {\n",
       "        vertical-align: middle;\n",
       "    }\n",
       "\n",
       "    .dataframe tbody tr th {\n",
       "        vertical-align: top;\n",
       "    }\n",
       "\n",
       "    .dataframe thead th {\n",
       "        text-align: right;\n",
       "    }\n",
       "</style>\n",
       "<table border=\"1\" class=\"dataframe\">\n",
       "  <thead>\n",
       "    <tr style=\"text-align: right;\">\n",
       "      <th></th>\n",
       "      <th>mean_fit_time</th>\n",
       "      <th>std_fit_time</th>\n",
       "      <th>mean_score_time</th>\n",
       "      <th>std_score_time</th>\n",
       "      <th>param_n_estimators</th>\n",
       "      <th>param_min_samples_split</th>\n",
       "      <th>param_min_samples_leaf</th>\n",
       "      <th>param_max_features</th>\n",
       "      <th>param_max_depth</th>\n",
       "      <th>param_bootstrap</th>\n",
       "      <th>params</th>\n",
       "      <th>split0_test_score</th>\n",
       "      <th>split1_test_score</th>\n",
       "      <th>split2_test_score</th>\n",
       "      <th>mean_test_score</th>\n",
       "      <th>std_test_score</th>\n",
       "      <th>rank_test_score</th>\n",
       "    </tr>\n",
       "  </thead>\n",
       "  <tbody>\n",
       "    <tr>\n",
       "      <th>0</th>\n",
       "      <td>10.169240</td>\n",
       "      <td>0.510380</td>\n",
       "      <td>0.234716</td>\n",
       "      <td>0.018554</td>\n",
       "      <td>400</td>\n",
       "      <td>5</td>\n",
       "      <td>1</td>\n",
       "      <td>sqrt</td>\n",
       "      <td>30</td>\n",
       "      <td>True</td>\n",
       "      <td>{'n_estimators': 400, 'min_samples_split': 5, ...</td>\n",
       "      <td>0.652720</td>\n",
       "      <td>0.679325</td>\n",
       "      <td>0.690678</td>\n",
       "      <td>0.674157</td>\n",
       "      <td>0.015926</td>\n",
       "      <td>32</td>\n",
       "    </tr>\n",
       "    <tr>\n",
       "      <th>1</th>\n",
       "      <td>48.867099</td>\n",
       "      <td>1.493703</td>\n",
       "      <td>0.928564</td>\n",
       "      <td>0.108254</td>\n",
       "      <td>2000</td>\n",
       "      <td>5</td>\n",
       "      <td>1</td>\n",
       "      <td>sqrt</td>\n",
       "      <td>10</td>\n",
       "      <td>True</td>\n",
       "      <td>{'n_estimators': 2000, 'min_samples_split': 5,...</td>\n",
       "      <td>0.642259</td>\n",
       "      <td>0.662447</td>\n",
       "      <td>0.671610</td>\n",
       "      <td>0.658708</td>\n",
       "      <td>0.012274</td>\n",
       "      <td>75</td>\n",
       "    </tr>\n",
       "    <tr>\n",
       "      <th>2</th>\n",
       "      <td>46.206426</td>\n",
       "      <td>1.897360</td>\n",
       "      <td>0.563708</td>\n",
       "      <td>0.060130</td>\n",
       "      <td>1200</td>\n",
       "      <td>5</td>\n",
       "      <td>2</td>\n",
       "      <td>sqrt</td>\n",
       "      <td>10</td>\n",
       "      <td>False</td>\n",
       "      <td>{'n_estimators': 1200, 'min_samples_split': 5,...</td>\n",
       "      <td>0.661088</td>\n",
       "      <td>0.681435</td>\n",
       "      <td>0.673729</td>\n",
       "      <td>0.672051</td>\n",
       "      <td>0.008402</td>\n",
       "      <td>42</td>\n",
       "    </tr>\n",
       "    <tr>\n",
       "      <th>3</th>\n",
       "      <td>64.878184</td>\n",
       "      <td>1.510690</td>\n",
       "      <td>0.960404</td>\n",
       "      <td>0.399160</td>\n",
       "      <td>2000</td>\n",
       "      <td>2</td>\n",
       "      <td>4</td>\n",
       "      <td>auto</td>\n",
       "      <td>30</td>\n",
       "      <td>False</td>\n",
       "      <td>{'n_estimators': 2000, 'min_samples_split': 2,...</td>\n",
       "      <td>0.654812</td>\n",
       "      <td>0.685654</td>\n",
       "      <td>0.684322</td>\n",
       "      <td>0.674860</td>\n",
       "      <td>0.014261</td>\n",
       "      <td>29</td>\n",
       "    </tr>\n",
       "    <tr>\n",
       "      <th>4</th>\n",
       "      <td>31.925853</td>\n",
       "      <td>1.892761</td>\n",
       "      <td>0.763786</td>\n",
       "      <td>0.031840</td>\n",
       "      <td>1600</td>\n",
       "      <td>2</td>\n",
       "      <td>4</td>\n",
       "      <td>sqrt</td>\n",
       "      <td>10</td>\n",
       "      <td>True</td>\n",
       "      <td>{'n_estimators': 1600, 'min_samples_split': 2,...</td>\n",
       "      <td>0.633891</td>\n",
       "      <td>0.641350</td>\n",
       "      <td>0.656780</td>\n",
       "      <td>0.643961</td>\n",
       "      <td>0.009527</td>\n",
       "      <td>95</td>\n",
       "    </tr>\n",
       "  </tbody>\n",
       "</table>\n",
       "</div>"
      ],
      "text/plain": [
       "   mean_fit_time  std_fit_time  mean_score_time  std_score_time  \\\n",
       "0      10.169240      0.510380         0.234716        0.018554   \n",
       "1      48.867099      1.493703         0.928564        0.108254   \n",
       "2      46.206426      1.897360         0.563708        0.060130   \n",
       "3      64.878184      1.510690         0.960404        0.399160   \n",
       "4      31.925853      1.892761         0.763786        0.031840   \n",
       "\n",
       "  param_n_estimators param_min_samples_split param_min_samples_leaf  \\\n",
       "0                400                       5                      1   \n",
       "1               2000                       5                      1   \n",
       "2               1200                       5                      2   \n",
       "3               2000                       2                      4   \n",
       "4               1600                       2                      4   \n",
       "\n",
       "  param_max_features param_max_depth param_bootstrap  \\\n",
       "0               sqrt              30            True   \n",
       "1               sqrt              10            True   \n",
       "2               sqrt              10           False   \n",
       "3               auto              30           False   \n",
       "4               sqrt              10            True   \n",
       "\n",
       "                                              params  split0_test_score  \\\n",
       "0  {'n_estimators': 400, 'min_samples_split': 5, ...           0.652720   \n",
       "1  {'n_estimators': 2000, 'min_samples_split': 5,...           0.642259   \n",
       "2  {'n_estimators': 1200, 'min_samples_split': 5,...           0.661088   \n",
       "3  {'n_estimators': 2000, 'min_samples_split': 2,...           0.654812   \n",
       "4  {'n_estimators': 1600, 'min_samples_split': 2,...           0.633891   \n",
       "\n",
       "   split1_test_score  split2_test_score  mean_test_score  std_test_score  \\\n",
       "0           0.679325           0.690678         0.674157        0.015926   \n",
       "1           0.662447           0.671610         0.658708        0.012274   \n",
       "2           0.681435           0.673729         0.672051        0.008402   \n",
       "3           0.685654           0.684322         0.674860        0.014261   \n",
       "4           0.641350           0.656780         0.643961        0.009527   \n",
       "\n",
       "   rank_test_score  \n",
       "0               32  \n",
       "1               75  \n",
       "2               42  \n",
       "3               29  \n",
       "4               95  "
      ]
     },
     "execution_count": 33,
     "metadata": {},
     "output_type": "execute_result"
    }
   ],
   "source": [
    "rf_cv.head()"
   ]
  },
  {
   "cell_type": "code",
   "execution_count": 36,
   "metadata": {},
   "outputs": [],
   "source": [
    "rf_als = rf_cv[['param_n_estimators','param_max_depth','mean_test_score']]"
   ]
  },
  {
   "cell_type": "code",
   "execution_count": 50,
   "metadata": {},
   "outputs": [
    {
     "data": {
      "image/png": "[encoded data removed]",
      "text/plain": [
       "<Figure size 432x288 with 1 Axes>"
      ]
     },
     "metadata": {
      "needs_background": "light"
     },
     "output_type": "display_data"
    }
   ],
   "source": [
    "rf_als = rf_als.sort_values(by='param_n_estimators')\n",
    "plt.plot(rf_als.iloc[:,0], rf_als.iloc[:,2])\n",
    "plt.show()"
   ]
  },
  {
   "cell_type": "code",
   "execution_count": 52,
   "metadata": {},
   "outputs": [
    {
     "data": {
      "image/png": "[encoded data removed]",
      "text/plain": [
       "<Figure size 432x288 with 1 Axes>"
      ]
     },
     "metadata": {
      "needs_background": "light"
     },
     "output_type": "display_data"
    }
   ],
   "source": [
    "rf_als = rf_als.sort_values(by='param_max_depth')\n",
    "plt.plot(rf_als.iloc[:,1], rf_als.iloc[:,2])\n",
    "plt.show()"
   ]
  },
  {
   "cell_type": "code",
   "execution_count": 25,
   "metadata": {},
   "outputs": [
    {
     "name": "stdout",
     "output_type": "stream",
     "text": [
      "\n",
      "Instanciando Modelo Random Forest (n_estimators = 500 e max_depth = 50)\n"
     ]
    }
   ],
   "source": [
    "print(\"\\nInstanciando Modelo Random Forest (n_estimators = 500 e max_depth = 50)\")\n",
    "# rfc = RandomForestClassifier(n_estimators = 500, max_depth = 50, random_state = 0)\n",
    "rfc = best_rf"
   ]
  },
  {
   "cell_type": "code",
   "execution_count": 9,
   "metadata": {},
   "outputs": [
    {
     "name": "stdout",
     "output_type": "stream",
     "text": [
      "\n",
      "Treinando Modelo...\n"
     ]
    },
    {
     "data": {
      "text/plain": [
       "RandomForestClassifier(bootstrap=True, class_weight=None, criterion='gini',\n",
       "                       max_depth=50, max_features='auto', max_leaf_nodes=None,\n",
       "                       min_impurity_decrease=0.0, min_impurity_split=None,\n",
       "                       min_samples_leaf=1, min_samples_split=2,\n",
       "                       min_weight_fraction_leaf=0.0, n_estimators=500,\n",
       "                       n_jobs=None, oob_score=False, random_state=0, verbose=0,\n",
       "                       warm_start=False)"
      ]
     },
     "execution_count": 9,
     "metadata": {},
     "output_type": "execute_result"
    }
   ],
   "source": [
    "print(\"\\nTreinando Modelo...\")\n",
    "rfc.fit(X, y)"
   ]
  },
  {
   "cell_type": "code",
   "execution_count": 26,
   "metadata": {},
   "outputs": [
    {
     "name": "stdout",
     "output_type": "stream",
     "text": [
      "Realizando Classificacao...\n"
     ]
    }
   ],
   "source": [
    "print(\"Realizando Classificacao...\")\n",
    "y_rfc = rfc.predict(Xt)"
   ]
  },
  {
   "cell_type": "code",
   "execution_count": 27,
   "metadata": {},
   "outputs": [
    {
     "name": "stdout",
     "output_type": "stream",
     "text": [
      "\n",
      "Acuracia do modelo Random Forest = 0.7481\n",
      "\n",
      "Relatorio de Classificacao\n",
      "              precision    recall  f1-score   support\n",
      "\n",
      "           6       0.72      0.82      0.77       100\n",
      "           7       0.94      0.95      0.94       114\n",
      "           a       0.97      0.93      0.95        97\n",
      "           b       0.55      0.63      0.59       106\n",
      "           c       0.83      0.71      0.76       107\n",
      "           d       0.57      0.54      0.55       110\n",
      "           h       0.91      0.95      0.93       122\n",
      "           m       0.51      0.56      0.53       104\n",
      "           n       0.59      0.48      0.53       113\n",
      "           x       0.91      0.94      0.92        95\n",
      "\n",
      "    accuracy                           0.75      1068\n",
      "   macro avg       0.75      0.75      0.75      1068\n",
      "weighted avg       0.75      0.75      0.75      1068\n",
      "\n"
     ]
    }
   ],
   "source": [
    "from sklearn.model_selection import cross_val_score\n",
    "from sklearn.metrics import classification_report\n",
    "rfc_score = rfc.score(Xt, yt)\n",
    "print(f\"\\nAcuracia do modelo Random Forest = {rfc_score:{4}.{4}}\\n\")\n",
    "\n",
    "print(\"Relatorio de Classificacao\")\n",
    "print(classification_report(yt, y_rfc))"
   ]
  },
  {
   "cell_type": "code",
   "execution_count": 17,
   "metadata": {},
   "outputs": [
    {
     "name": "stdout",
     "output_type": "stream",
     "text": [
      "Matriz de Confusao Geral do Modelo Random Forest\n",
      "\n",
      "['c', 'n', '6', 'x', 'h', 'm', 'd', 'b', 'a', '7']\n",
      "\n",
      "[[ 68   0  30   3   0   1   0   2   0   3]\n",
      " [  0  53   3   0   0  48   2   6   0   1]\n",
      " [ 14   0  79   5   0   0   0   1   0   1]\n",
      " [  1   0   3  90   0   0   0   1   0   0]\n",
      " [  0   0   0   0 117   0   1   0   3   1]\n",
      " [  0  29   0   1   0  54   9  10   0   1]\n",
      " [  0   4   1   0   0   7  53  44   0   1]\n",
      " [  1   1   1   0   0   7  28  68   0   0]\n",
      " [  0   0   0   0   4   0   0   0  93   0]\n",
      " [  3   0   1   2   1   0   0   0   0 107]]\n",
      "\n",
      "Plotando Confusion Matrix geral usando o matplotlib...\n",
      "Feche o arquivo de saída para continuar a execução\n"
     ]
    },
    {
     "data": {
      "image/png": "[encoded data removed]",
      "text/plain": [
       "<Figure size 720x720 with 2 Axes>"
      ]
     },
     "metadata": {
      "needs_background": "light"
     },
     "output_type": "display_data"
    }
   ],
   "source": [
    "labels = unique_values(y)\n",
    "print(\"Matriz de Confusao Geral do Modelo Random Forest\\n\")\n",
    "print_conf_mtx(yt, y_rfc, labels, \"Random Forest\")"
   ]
  }
 ],
 "metadata": {
  "kernelspec": {
   "display_name": "Python 3",
   "language": "python",
   "name": "python3"
  },
  "language_info": {
   "codemirror_mode": {
    "name": "ipython",
    "version": 3
   },
   "file_extension": ".py",
   "mimetype": "text/x-python",
   "name": "python",
   "nbconvert_exporter": "python",
   "pygments_lexer": "ipython3",
   "version": "3.7.3"
  }
 },
 "nbformat": 4,
 "nbformat_minor": 2
}
