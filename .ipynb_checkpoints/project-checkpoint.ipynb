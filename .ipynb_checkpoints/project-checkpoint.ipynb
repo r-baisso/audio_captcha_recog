{
 "cells": [
  {
   "cell_type": "code",
   "execution_count": 1,
   "metadata": {},
   "outputs": [],
   "source": [
    "import librosa\n",
    "import math\n",
    "import glob\n",
    "import random\n",
    "import pandas as pd\n",
    "import numpy as np\n",
    "import matplotlib.pylab as plt\n",
    "import scipy.signal as sg\n",
    "import re\n",
    "from scipy.fftpack import dct\n",
    "from scipy.fftpack import fft\n",
    "from scipy.fftpack import ifft\n",
    "from sklearn.decomposition import PCA\n",
    "from sklearn.svm import SVC"
   ]
  },
  {
   "cell_type": "code",
   "execution_count": 2,
   "metadata": {},
   "outputs": [],
   "source": [
    "#calculo o do MFCC medio para cada audio de entrada\n",
    "def calc_mfcc(segmento, sr):\n",
    "    av = segmento.to_numpy(copy=True)\n",
    "    return np.mean(librosa.feature.mfcc(y=av, sr=sr, n_mfcc=24).T,axis=0)"
   ]
  },
  {
   "cell_type": "code",
   "execution_count": 3,
   "metadata": {},
   "outputs": [],
   "source": [
    "#divisao dos audios de entrada para separacao de cada letra\n",
    "def extract_intervals(signal, cut):\n",
    "    data_interval = []\n",
    "    interval = int(len(signal) // cut)\n",
    "    for i in range(0, cut) :\n",
    "        data_interval.append(pd.Series(data[i*interval : (i+1)*interval]))\n",
    "    return data_interval"
   ]
  },
  {
   "cell_type": "code",
   "execution_count": 4,
   "metadata": {},
   "outputs": [],
   "source": [
    "#calculo do sinal filtrado po filtro passa-baixas de ButterWorth\n",
    "def lowPassFilter(signal):\n",
    "    N  = 5   # Filter order\n",
    "    Wn = 0.5 # Cutoff frequency\n",
    "    B, A = sg.butter(N, Wn, output='ba')\n",
    "    smooth_data = sg.filtfilt(B,A, signal)\n",
    "    return smooth_data"
   ]
  },
  {
   "cell_type": "code",
   "execution_count": 5,
   "metadata": {},
   "outputs": [],
   "source": [
    "#calculo da serie discreta de cosenos do sinal\n",
    "def calc_dct(segmento):\n",
    "    av = segmento.to_numpy(copy=True)\n",
    "    return dct(av, type=3, n=24)"
   ]
  },
  {
   "cell_type": "code",
   "execution_count": 6,
   "metadata": {},
   "outputs": [],
   "source": [
    "#calcula o Mel Spectrogram do sinal\n",
    "def calc_mel(segmento):\n",
    "    av = segmento.to_numpy(copy=True)\n",
    "    return np.mean(librosa.feature.melspectrogram(av, sr=sr).T,axis=0)"
   ]
  },
  {
   "cell_type": "code",
   "execution_count": 7,
   "metadata": {},
   "outputs": [],
   "source": [
    "#calcula a FFT do sinal\n",
    "def calc_fft(segmento):\n",
    "    av = segmento.to_numpy(copy=True)\n",
    "    return abs(fft(av, n=24))"
   ]
  },
  {
   "cell_type": "code",
   "execution_count": 8,
   "metadata": {},
   "outputs": [],
   "source": [
    "#faz a aquisicao do caminho de todos os arquivos na pasta path\n",
    "def get_files(path):\n",
    "    files = glob.glob(path + \"*.wav\")\n",
    "    return files\n",
    "#quebra o nome do arquivo em letras para categorizacao dos audios\n",
    "def get_labels(path_file):\n",
    "    path_file = re.sub(\"[ (1)]\", \"\", path_file)\n",
    "    return list(path_file[-8:-4])"
   ]
  },
  {
   "cell_type": "code",
   "execution_count": 88,
   "metadata": {},
   "outputs": [],
   "source": [
    "#realiza a extracao de features do sinal\n",
    "def feature_extraction(segmento, sr):\n",
    "\n",
    "    features = []\n",
    "    np.array(features)\n",
    "    \n",
    "    features=np.append(features, calc_mfcc(segmento, sr))\n",
    "    features=np.append(features, calc_mel(segmento))\n",
    "    features=np.append(features, calc_dct(segmento))\n",
    "    features=np.append(features, calc_fft(segmento))\n",
    "\n",
    "    return features"
   ]
  },
  {
   "cell_type": "code",
   "execution_count": 90,
   "metadata": {},
   "outputs": [],
   "source": [
    "def get_x_y(path, seed=4):\n",
    "    files = get_files(path)\n",
    "\n",
    "    Xt = []\n",
    "    yt = []\n",
    "    segmentos = []\n",
    "    random.seed(seed)\n",
    "    random.shuffle(files)\n",
    "    for f in files:\n",
    "        data, sr = librosa.load(f, mono=True)\n",
    "        segmentos += (extract_intervals(data, 4))\n",
    "        yt+=get_labels(f)    \n",
    "\n",
    "    for segmento in segmentos:\n",
    "        Xt.append(feature_extraction(segmento, sr))\n",
    "    \n",
    "    return Xt,yt"
   ]
  },
  {
   "cell_type": "code",
   "execution_count": 91,
   "metadata": {},
   "outputs": [],
   "source": [
    "def unique_values(l):\n",
    "    unique_list = []\n",
    "    for x in l: \n",
    "        if x not in unique_list: \n",
    "            unique_list.append(x)\n",
    "    return unique_list"
   ]
  },
  {
   "cell_type": "code",
   "execution_count": 93,
   "metadata": {},
   "outputs": [],
   "source": [
    "def print_conf_mtx(yt , y_pred, labels):\n",
    "    cm = confusion_matrix(yt, y_pred, labels)\n",
    "    \n",
    "    print(cm)\n",
    "    \n",
    "    fig = plt.figure(figsize=(8,8))\n",
    "    ax = fig.add_subplot(111)\n",
    "    cax = ax.matshow(cm)\n",
    "    plt.title('Confusion matrix of the classifier')\n",
    "    fig.colorbar(cax)\n",
    "    ax.set_xticklabels([''] + labels)\n",
    "    ax.set_yticklabels([''] + labels)\n",
    "    plt.locator_params(nbins=len(labels))\n",
    "    plt.xlabel('Predicted')\n",
    "    plt.ylabel('True')\n",
    "    plt.show()"
   ]
  },
  {
   "cell_type": "code",
   "execution_count": 10,
   "metadata": {},
   "outputs": [],
   "source": [
    "#amostras = data.shape[0]\n",
    "#print(f\"frequencia de amostragem = {sr}\")\n",
    "#print(f\"quantidade de amostras = {amostras}\")"
   ]
  },
  {
   "cell_type": "code",
   "execution_count": 32,
   "metadata": {},
   "outputs": [],
   "source": [
    "path = 'TREINAMENTO/'\n",
    "files = get_files(path)"
   ]
  },
  {
   "cell_type": "code",
   "execution_count": 33,
   "metadata": {},
   "outputs": [],
   "source": [
    "X,y = get_x_y(path)"
   ]
  },
  {
   "cell_type": "code",
   "execution_count": 80,
   "metadata": {},
   "outputs": [],
   "source": [
    "svm = SVC(kernel='linear', class_weight='balanced',probability=True, gamma='auto')"
   ]
  },
  {
   "cell_type": "code",
   "execution_count": 81,
   "metadata": {},
   "outputs": [
    {
     "data": {
      "text/plain": [
       "SVC(C=1.0, cache_size=200, class_weight='balanced', coef0=0.0,\n",
       "    decision_function_shape='ovr', degree=3, gamma='auto', kernel='linear',\n",
       "    max_iter=-1, probability=True, random_state=None, shrinking=True, tol=0.001,\n",
       "    verbose=False)"
      ]
     },
     "execution_count": 81,
     "metadata": {},
     "output_type": "execute_result"
    }
   ],
   "source": [
    "svm.fit(X,y)"
   ]
  },
  {
   "cell_type": "code",
   "execution_count": 37,
   "metadata": {},
   "outputs": [],
   "source": [
    "test_path = 'VALIDACAO/'\n",
    "Xt, yt = get_x_y(test_path)"
   ]
  },
  {
   "cell_type": "code",
   "execution_count": 82,
   "metadata": {},
   "outputs": [],
   "source": [
    "y_pred = svm.predict(Xt)"
   ]
  },
  {
   "cell_type": "code",
   "execution_count": 66,
   "metadata": {},
   "outputs": [
    {
     "data": {
      "text/plain": [
       "array([False, False, False, ...,  True, False, False])"
      ]
     },
     "execution_count": 66,
     "metadata": {},
     "output_type": "execute_result"
    }
   ],
   "source": [
    "yt == y_pred"
   ]
  },
  {
   "cell_type": "code",
   "execution_count": 41,
   "metadata": {},
   "outputs": [],
   "source": [
    "from sklearn.metrics import confusion_matrix"
   ]
  },
  {
   "cell_type": "code",
   "execution_count": 83,
   "metadata": {},
   "outputs": [
    {
     "data": {
      "text/plain": [
       "0.6095505617977528"
      ]
     },
     "execution_count": 83,
     "metadata": {},
     "output_type": "execute_result"
    }
   ],
   "source": [
    "svm.score(Xt, yt)"
   ]
  },
  {
   "cell_type": "code",
   "execution_count": 94,
   "metadata": {},
   "outputs": [
    {
     "name": "stdout",
     "output_type": "stream",
     "text": [
      "[[94  0  3  6  0  0  0 13  6  0]\n",
      " [ 0 68  1  6  1 11 13  0  0  0]\n",
      " [ 2  3 52  2  2  6  2  0  6 31]\n",
      " [ 5 17  3 81  0  3  1  1  2  1]\n",
      " [ 0  2  9  1 54  1  0  1 42  3]\n",
      " [ 1 16  8 14  0 64  2  1  0  1]\n",
      " [ 0 12  2  2  1  8 69  0  0  1]\n",
      " [ 8  0  0  4  0  1  0 84  0  0]\n",
      " [ 2  2  9  0 31  3  0  0 37 20]\n",
      " [ 1  3 42  2  2  5  2  3  2 48]]\n"
     ]
    },
    {
     "data": {
      "image/png": "[encoded data removed]",
      "text/plain": [
       "<Figure size 576x576 with 2 Axes>"
      ]
     },
     "metadata": {
      "needs_background": "light"
     },
     "output_type": "display_data"
    }
   ],
   "source": [
    "labels = unique_values(y)\n",
    "print_conf_mtx(yt, y_pred, labels)"
   ]
  }
 ],
 "metadata": {
  "kernelspec": {
   "display_name": "Python 3",
   "language": "python",
   "name": "python3"
  },
  "language_info": {
   "codemirror_mode": {
    "name": "ipython",
    "version": 3
   },
   "file_extension": ".py",
   "mimetype": "text/x-python",
   "name": "python",
   "nbconvert_exporter": "python",
   "pygments_lexer": "ipython3",
   "version": "3.7.3"
  }
 },
 "nbformat": 4,
 "nbformat_minor": 2
}
